{
 "cells": [
  {
   "cell_type": "markdown",
   "metadata": {},
   "source": [
    "# This jupyter notebook loads de csv prices data and estimate the total price of the project "
   ]
  },
  {
   "cell_type": "code",
   "execution_count": 201,
   "metadata": {},
   "outputs": [],
   "source": [
    "%run functions.py"
   ]
  },
  {
   "cell_type": "markdown",
   "metadata": {},
   "source": [
    "### Load the data and set the sema format"
   ]
  },
  {
   "cell_type": "code",
   "execution_count": 190,
   "metadata": {},
   "outputs": [],
   "source": [
    "import matplotlib.pyplot as plt\n",
    "from datetime import datetime\n",
    "import pandas as pd\n",
    "\n",
    "base_path = \"/Users/Curi/DATAKNOWN/Prueba Técnica Cientifico de Datos/Prueba tecnica 1/Datos/\"\n",
    "\n",
    "X = load_csv_data(path = base_path + \"X.csv\", separation = \",\", decimal = \".\", reversed = True)\n",
    "Y = load_csv_data(path = base_path + \"Y.csv\", separation = \";\", decimal = \",\", reversed = True)\n",
    "Y[\"Date\"] = pd.to_datetime(Y[\"Date\"], format=\"%d/%m/%Y\")\n",
    "Y[\"Date\"] = pd.to_datetime(Y[\"Date\"], format=\"%Y-%m-%d\")\n",
    "Z = load_csv_data(path = base_path + \"Z.csv\", separation = \",\", decimal = \".\", reversed = False)"
   ]
  },
  {
   "cell_type": "markdown",
   "metadata": {},
   "source": [
    "### Transform the Date into numerical values to perform the mathematical analysis easier"
   ]
  },
  {
   "cell_type": "code",
   "execution_count": 191,
   "metadata": {},
   "outputs": [],
   "source": [
    "total_data = X[\"Date\"].count()\n",
    "max_date = X[\"Date\"].iloc[-1]\n",
    "min_date = X[\"Date\"].iloc[0]\n",
    "total_days_sampled = (max_date-min_date).days\n",
    "\n",
    "X[\"Date_Num\"] = total_days_sampled - (max_date-X[\"Date\"]).dt.days\n",
    "Y[\"Date_Num\"] = total_days_sampled - (max_date-Y[\"Date\"]).dt.days\n",
    "Z[\"Date_Num\"] = total_days_sampled - (max_date-Z[\"Date\"]).dt.days"
   ]
  },
  {
   "cell_type": "markdown",
   "metadata": {},
   "source": [
    "### Plot the raw data"
   ]
  },
  {
   "cell_type": "code",
   "execution_count": 192,
   "metadata": {},
   "outputs": [],
   "source": [
    "fig, ax = plt.subplots(1,3,figsize=(30, 7))\n",
    "ax[0].plot(X[\"Date_Num\"],X[\"Price\"])\n",
    "\n",
    "ax[1].plot(Y[\"Date_Num\"],Y[\"Price\"])\n",
    "\n",
    "ax[2].plot(Z[\"Date_Num\"],Z[\"Price\"])\n",
    "\n",
    "for a in ax:\n",
    "    a.tick_params(axis='both', which='major', labelsize=15)\n",
    "    a.set_xlabel(\"Date\", fontsize=25)\n",
    "    \n",
    "ax[0].set_ylabel(\"Price\", fontsize=25)\n",
    "\n",
    "ax[0].set_title(\"X\", fontsize=25)\n",
    "ax[1].set_title(\"Y\", fontsize=25)\n",
    "ax[2].set_title(\"Z\", fontsize=25)\n",
    "\n",
    "filename = 'raw_data.png'\n",
    "plt.savefig(filename, dpi=300, bbox_inches='tight')\n",
    "plt.close(fig)"
   ]
  },
  {
   "cell_type": "markdown",
   "metadata": {},
   "source": [
    "### Fit the measured data to a specified function"
   ]
  },
  {
   "cell_type": "code",
   "execution_count": 202,
   "metadata": {},
   "outputs": [
    {
     "name": "stdout",
     "output_type": "stream",
     "text": [
      "X fitted parameters= [2.71093241e+00 1.51616116e-04]  with standar deviation [8.63049306e-03 1.13947409e-06]\n",
      "Y fited parameters= [-8.46733305e-04  5.73690718e+02]  with standar deviation [1.19708425e-03 1.18388615e+01]\n",
      "Z fited parameters= [5.11158077e-02 1.50784857e+03]  with standar deviation [4.25086078e-03 4.44358061e+01]\n"
     ]
    }
   ],
   "source": [
    "from scipy.optimize import curve_fit\n",
    "\n",
    "# X\n",
    "poptX, pcovX = curve_fit(fit_X, X[\"Date_Num\"], np.log(X[\"Price\"]))\n",
    "standar_deviationX = np.sqrt(np.diag(pcovX))\n",
    "print(\"X fitted parameters=\",poptX,\" with standar deviation\",standar_deviationX)\n",
    "\n",
    "# Y\n",
    "poptY, pcovY = np.polyfit(Y[\"Date_Num\"], Y[\"Price\"], deg=1, cov=True)\n",
    "pY = np.poly1d(poptY)\n",
    "standar_deviationY = np.sqrt(np.diag(pcovY))\n",
    "print(\"Y fited parameters=\",poptY,\" with standar deviation\",standar_deviationY)\n",
    "\n",
    "# Z\n",
    "poptZ, pcovZ = np.polyfit(Z[\"Date_Num\"], Z[\"Price\"], deg=1, cov=True)\n",
    "pZ = np.poly1d(poptZ)\n",
    "standar_deviationZ = np.sqrt(np.diag(pcovZ))\n",
    "print(\"Z fited parameters=\",poptZ,\" with standar deviation\",standar_deviationZ)\n",
    "\n",
    "\n"
   ]
  },
  {
   "cell_type": "markdown",
   "metadata": {},
   "source": [
    "### Plot the fitted data"
   ]
  },
  {
   "cell_type": "code",
   "execution_count": 205,
   "metadata": {},
   "outputs": [],
   "source": [
    "fig, ax = plt.subplots(1,3,figsize=(30, 7))\n",
    "\n",
    "daysX = np.linspace(0,15000,8000)\n",
    "daysYZ = np.linspace(7000,15000,8000)\n",
    "\n",
    "ax[0].plot(X[\"Date_Num\"],X[\"Price\"])\n",
    "ax[0].plot(daysX,np.exp(fit_X(daysX,poptX[0],poptX[1])))\n",
    "\n",
    "ax[1].plot(Y[\"Date_Num\"],Y[\"Price\"])\n",
    "ax[1].plot(daysYZ,pY(daysYZ))\n",
    "\n",
    "ax[2].plot(Z[\"Date_Num\"],Z[\"Price\"])\n",
    "ax[2].plot(daysYZ,pZ(daysYZ))\n",
    "\n",
    "for a in ax:\n",
    "    a.tick_params(axis='both', which='major', labelsize=15)\n",
    "\n",
    "for k in range(3):\n",
    "    ax[k].set_xlabel(\"Date\", fontsize=25)\n",
    "ax[0].set_ylabel(\"Price\", fontsize=25)\n",
    "\n",
    "ax[0].set_title(\"X\", fontsize=25)\n",
    "ax[1].set_title(\"Y\", fontsize=25)\n",
    "ax[2].set_title(\"Z\", fontsize=25)\n",
    "\n",
    "filename = 'fited_data.png'\n",
    "plt.savefig(filename, dpi=300, bbox_inches='tight')\n",
    "plt.close(fig)"
   ]
  }
 ],
 "metadata": {
  "kernelspec": {
   "display_name": "finalEnv",
   "language": "python",
   "name": "python3"
  },
  "language_info": {
   "codemirror_mode": {
    "name": "ipython",
    "version": 3
   },
   "file_extension": ".py",
   "mimetype": "text/x-python",
   "name": "python",
   "nbconvert_exporter": "python",
   "pygments_lexer": "ipython3",
   "version": "3.13.1"
  }
 },
 "nbformat": 4,
 "nbformat_minor": 2
}
