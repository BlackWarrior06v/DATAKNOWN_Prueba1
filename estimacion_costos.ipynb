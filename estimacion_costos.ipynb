{
 "cells": [
  {
   "cell_type": "markdown",
   "metadata": {},
   "source": [
    "# This jupyter notebook loads de csv prices data and estimate the total price of the project "
   ]
  },
  {
   "cell_type": "code",
   "execution_count": 1,
   "metadata": {},
   "outputs": [],
   "source": [
    "%run load_csv.py"
   ]
  },
  {
   "cell_type": "markdown",
   "metadata": {},
   "source": [
    "### Load the data and set the sema format"
   ]
  },
  {
   "cell_type": "code",
   "execution_count": 74,
   "metadata": {},
   "outputs": [],
   "source": [
    "import matplotlib.pyplot as plt\n",
    "from datetime import datetime\n",
    "import pandas as pd\n",
    "\n",
    "base_path = \"/Users/Curi/DATAKNOWN/Prueba Técnica Cientifico de Datos/Prueba tecnica 1/Datos/\"\n",
    "\n",
    "X = load_csv_data(path = base_path + \"X.csv\", separation = \",\", decimal = \".\", reversed = True)\n",
    "Y = load_csv_data(path = base_path + \"Y.csv\", separation = \";\", decimal = \",\", reversed = True)\n",
    "Y[\"Date\"] = pd.to_datetime(Y[\"Date\"], format=\"%d/%m/%Y\")\n",
    "Y[\"Date\"] = pd.to_datetime(Y[\"Date\"], format=\"%Y-%m-%d\")\n",
    "Z = load_csv_data(path = base_path + \"Z.csv\", separation = \",\", decimal = \".\", reversed = False)"
   ]
  },
  {
   "cell_type": "markdown",
   "metadata": {},
   "source": [
    "### Transform the Date into numerical values to perform the mathematical analysis easier"
   ]
  },
  {
   "cell_type": "code",
   "execution_count": 75,
   "metadata": {},
   "outputs": [],
   "source": [
    "total_data = X[\"Date\"].count()\n",
    "max_date = X[\"Date\"].iloc[-1]\n",
    "min_date = X[\"Date\"].iloc[0]\n",
    "total_days_sampled = (max_date-min_date).days\n",
    "\n",
    "X[\"Date_Num\"] = total_days_sampled - (max_date-X[\"Date\"]).dt.days\n",
    "Y[\"Date_Num\"] = total_days_sampled - (max_date-Y[\"Date\"]).dt.days\n",
    "Z[\"Date_Num\"] = total_days_sampled - (max_date-Z[\"Date\"]).dt.days"
   ]
  },
  {
   "cell_type": "markdown",
   "metadata": {},
   "source": [
    "### Plot the raw data"
   ]
  },
  {
   "cell_type": "code",
   "execution_count": 76,
   "metadata": {},
   "outputs": [],
   "source": [
    "fig, ax = plt.subplots(1,3,figsize=(30, 7))\n",
    "ax[0].plot(X[\"Date\"],X[\"Price\"])\n",
    "ax[1].plot(Y[\"Date\"],Y[\"Price\"])\n",
    "ax[2].plot(Z[\"Date\"],Z[\"Price\"])\n",
    "\n",
    "for a in ax:\n",
    "    a.tick_params(axis='both', which='major', labelsize=15)\n",
    "\n",
    "for k in range(3):\n",
    "    ax[k].set_xlabel(\"Date\", fontsize=25)\n",
    "ax[0].set_ylabel(\"Price\", fontsize=25)\n",
    "\n",
    "ax[0].set_title(\"X\", fontsize=25)\n",
    "ax[1].set_title(\"Y\", fontsize=25)\n",
    "ax[2].set_title(\"Z\", fontsize=25)\n",
    "\n",
    "filename = 'raw_data.png'\n",
    "plt.savefig(filename, dpi=300, bbox_inches='tight')\n",
    "plt.close(fig)"
   ]
  }
 ],
 "metadata": {
  "kernelspec": {
   "display_name": "finalEnv",
   "language": "python",
   "name": "python3"
  },
  "language_info": {
   "codemirror_mode": {
    "name": "ipython",
    "version": 3
   },
   "file_extension": ".py",
   "mimetype": "text/x-python",
   "name": "python",
   "nbconvert_exporter": "python",
   "pygments_lexer": "ipython3",
   "version": "3.13.1"
  }
 },
 "nbformat": 4,
 "nbformat_minor": 2
}
