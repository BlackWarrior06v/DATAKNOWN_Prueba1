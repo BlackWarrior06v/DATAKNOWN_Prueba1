{
 "cells": [
  {
   "cell_type": "markdown",
   "metadata": {},
   "source": [
    "# This jupyter notebook loads de csv prices data and estimate the total price of the project "
   ]
  },
  {
   "cell_type": "code",
   "execution_count": 1,
   "metadata": {},
   "outputs": [],
   "source": [
    "%run functions.py"
   ]
  },
  {
   "cell_type": "markdown",
   "metadata": {},
   "source": [
    "### Load the data and set the sema format"
   ]
  },
  {
   "cell_type": "code",
   "execution_count": null,
   "metadata": {},
   "outputs": [],
   "source": [
    "import matplotlib.pyplot as plt\n",
    "from datetime import datetime\n",
    "import pandas as pd\n",
    "\n",
    "base_path = \"/Users/Curi/DATAKNOWN/Prueba Técnica Cientifico de Datos/Prueba tecnica 1/Datos/\"\n",
    "\n",
    "X = load_csv_data(path = base_path + \"X.csv\", separation = \",\", decimal = \".\", reversed = True)\n",
    "Y = load_csv_data(path = base_path + \"Y.csv\", separation = \";\", decimal = \",\", reversed = True)\n",
    "# Change the format of Y\n",
    "Y[\"Date\"] = pd.to_datetime(Y[\"Date\"], format=\"%d/%m/%Y\")\n",
    "Y[\"Date\"] = pd.to_datetime(Y[\"Date\"], format=\"%Y-%m-%d\")\n",
    "Z = load_csv_data(path = base_path + \"Z.csv\", separation = \",\", decimal = \".\", reversed = False)"
   ]
  },
  {
   "cell_type": "markdown",
   "metadata": {},
   "source": [
    "### Transform the Date into numerical values to perform the mathematical analysis easier"
   ]
  },
  {
   "cell_type": "code",
   "execution_count": 42,
   "metadata": {},
   "outputs": [],
   "source": [
    "total_data = X[\"Date\"].count()\n",
    "max_date = X[\"Date\"].iloc[-1]\n",
    "min_date = X[\"Date\"].iloc[0]\n",
    "total_days_sampled = (max_date-min_date).days\n",
    "\n",
    "X[\"Date_Num\"] = total_days_sampled - (max_date-X[\"Date\"]).dt.days\n",
    "Y[\"Date_Num\"] = total_days_sampled - (max_date-Y[\"Date\"]).dt.days\n",
    "Z[\"Date_Num\"] = total_days_sampled - (max_date-Z[\"Date\"]).dt.days"
   ]
  },
  {
   "cell_type": "markdown",
   "metadata": {},
   "source": [
    "### Plot the raw data"
   ]
  },
  {
   "cell_type": "code",
   "execution_count": null,
   "metadata": {},
   "outputs": [],
   "source": [
    "fig, ax = plt.subplots(1,3,figsize=(30, 7))\n",
    "ax[0].plot(X[\"Date_Num\"],X[\"Price\"])\n",
    "\n",
    "ax[1].plot(Y[\"Date_Num\"],Y[\"Price\"])\n",
    "\n",
    "ax[2].plot(Z[\"Date_Num\"],Z[\"Price\"])\n",
    "\n",
    "for a in ax:\n",
    "    a.tick_params(axis='both', which='major', labelsize=15)\n",
    "    a.set_xlabel(\"Date\", fontsize=25)\n",
    "    \n",
    "ax[0].set_ylabel(\"Price\", fontsize=25)\n",
    "\n",
    "ax[0].set_title(\"X\", fontsize=25)\n",
    "ax[1].set_title(\"Y\", fontsize=25)\n",
    "ax[2].set_title(\"Z\", fontsize=25)\n",
    "\n",
    "\n",
    "ax[0].set_xticks(X[\"Date_Num\"][::-int(len(X)/8)])\n",
    "\n",
    "ax[1].set_xticks(Y[\"Date_Num\"][::-int(len(Y)/8)])\n",
    "\n",
    "ax[2].set_xticks(Z[\"Date_Num\"][::-int(len(Z)/8)])\n",
    "\n",
    "filename = 'raw_data.png'\n",
    "plt.savefig(filename, dpi=300, bbox_inches='tight')\n",
    "plt.close(fig)"
   ]
  },
  {
   "cell_type": "markdown",
   "metadata": {},
   "source": [
    "### Fit the measured data to a specified function"
   ]
  },
  {
   "cell_type": "code",
   "execution_count": 44,
   "metadata": {},
   "outputs": [
    {
     "name": "stdout",
     "output_type": "stream",
     "text": [
      "X fitted parameters= [2.71093241e+00 1.51616116e-04]  with standar deviation [8.63049306e-03 1.13947409e-06]\n",
      "Y fited parameters= [-8.46733305e-04  5.73690718e+02]  with standar deviation [1.19708425e-03 1.18388615e+01]\n",
      "Z fited parameters= [5.11158077e-02 1.50784857e+03]  with standar deviation [4.25086078e-03 4.44358061e+01]\n"
     ]
    }
   ],
   "source": [
    "from scipy.optimize import curve_fit\n",
    "\n",
    "# X an exponential function is proposed\n",
    "poptX, pcovX = curve_fit(fit_X, X[\"Date_Num\"], np.log(X[\"Price\"]))\n",
    "standar_deviationX = np.sqrt(np.diag(pcovX))\n",
    "print(\"X fitted parameters=\",poptX,\" with standar deviation\",standar_deviationX)\n",
    "\n",
    "# Y a line is proposed\n",
    "poptY, pcovY = np.polyfit(Y[\"Date_Num\"], Y[\"Price\"], deg=1, cov=True)\n",
    "pY = np.poly1d(poptY)\n",
    "standar_deviationY = np.sqrt(np.diag(pcovY))\n",
    "print(\"Y fited parameters=\",poptY,\" with standar deviation\",standar_deviationY)\n",
    "\n",
    "# Z a line is proposed\n",
    "poptZ, pcovZ = np.polyfit(Z[\"Date_Num\"], Z[\"Price\"], deg=1, cov=True)\n",
    "pZ = np.poly1d(poptZ)\n",
    "standar_deviationZ = np.sqrt(np.diag(pcovZ))\n",
    "print(\"Z fited parameters=\",poptZ,\" with standar deviation\",standar_deviationZ)\n"
   ]
  },
  {
   "cell_type": "markdown",
   "metadata": {},
   "source": [
    "### Plot the fitted data"
   ]
  },
  {
   "cell_type": "code",
   "execution_count": 45,
   "metadata": {},
   "outputs": [],
   "source": [
    "fig, ax = plt.subplots(1,3,figsize=(30, 7))\n",
    "\n",
    "daysX = np.linspace(0,15000,8000)\n",
    "daysYZ = np.linspace(7000,15000,8000)\n",
    "\n",
    "ax[0].plot(X[\"Date_Num\"],X[\"Price\"])\n",
    "ax[0].plot(daysX,np.exp(fit_X(daysX,poptX[0],poptX[1])))\n",
    "\n",
    "ax[1].plot(Y[\"Date_Num\"],Y[\"Price\"])\n",
    "ax[1].plot(daysYZ,pY(daysYZ))\n",
    "\n",
    "ax[2].plot(Z[\"Date_Num\"],Z[\"Price\"])\n",
    "ax[2].plot(daysYZ,pZ(daysYZ))\n",
    "\n",
    "for a in ax:\n",
    "    a.tick_params(axis='both', which='major', labelsize=15)\n",
    "\n",
    "for k in range(3):\n",
    "    ax[k].set_xlabel(\"Date\", fontsize=25)\n",
    "ax[0].set_ylabel(\"Price\", fontsize=25)\n",
    "\n",
    "ax[0].set_title(\"X\", fontsize=25)\n",
    "ax[1].set_title(\"Y\", fontsize=25)\n",
    "ax[2].set_title(\"Z\", fontsize=25)\n",
    "\n",
    "filename = 'fited_data.png'\n",
    "plt.savefig(filename, dpi=300, bbox_inches='tight')\n",
    "plt.close(fig)"
   ]
  },
  {
   "cell_type": "markdown",
   "metadata": {},
   "source": [
    "### The total price for Equipment 1 and Equipment 2 is calculated"
   ]
  },
  {
   "cell_type": "code",
   "execution_count": 47,
   "metadata": {},
   "outputs": [
    {
     "name": "stdout",
     "output_type": "stream",
     "text": [
      "Total price for equipment 1 = $16529.17\n",
      "Total price for equipment 2 = $25085.85\n"
     ]
    }
   ],
   "source": [
    "# This is the start day because X is de data with the latest sampling\n",
    "start_day = X[\"Date_Num\"].iloc[-1]\n",
    "current_day = start_day\n",
    "\n",
    "equipment1_total = 0.0\n",
    "equipment2_total = 0.0\n",
    "\n",
    "# Buying the materials once a month is suposed\n",
    "for i in range(36):\n",
    "    day = i*31 # Day to evaluate the functions in the fitted functions, we will take 31 as the days per month\n",
    "\n",
    "    priceX = fit_X(day,poptX[0],poptX[1])\n",
    "    priceY = pY(day)\n",
    "    priceZ = pZ(day)\n",
    "\n",
    "    equipment1_total += Equipment1_month_calculation(priceX,priceY)\n",
    "\n",
    "    equipment2_total += Equipment2_month_calculation(priceX,priceY,priceZ)\n",
    "\n",
    "print(f\"Total price for equipment 1 = ${equipment1_total:.2f}\")\n",
    "print(f\"Total price for equipment 2 = ${equipment2_total:.2f}\")\n"
   ]
  }
 ],
 "metadata": {
  "kernelspec": {
   "display_name": "finalEnv",
   "language": "python",
   "name": "python3"
  },
  "language_info": {
   "codemirror_mode": {
    "name": "ipython",
    "version": 3
   },
   "file_extension": ".py",
   "mimetype": "text/x-python",
   "name": "python",
   "nbconvert_exporter": "python",
   "pygments_lexer": "ipython3",
   "version": "3.13.1"
  }
 },
 "nbformat": 4,
 "nbformat_minor": 2
}
